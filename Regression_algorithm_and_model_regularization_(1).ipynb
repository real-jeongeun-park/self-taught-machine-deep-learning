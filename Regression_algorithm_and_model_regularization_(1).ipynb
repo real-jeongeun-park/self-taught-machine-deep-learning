{
  "nbformat": 4,
  "nbformat_minor": 0,
  "metadata": {
    "colab": {
      "provenance": []
    },
    "kernelspec": {
      "name": "python3",
      "display_name": "Python 3"
    },
    "language_info": {
      "name": "python"
    }
  },
  "cells": [
    {
      "cell_type": "markdown",
      "source": [
        "# 03. 회귀 알고리즘과 모델 규제\n",
        "\n",
        "<aside>\n",
        "\n",
        "🐠 **농어의 무게를 측정하라!**\n",
        "\n",
        "</aside>\n",
        "\n",
        "# 03-1. k-최근접 이웃 회귀\n",
        "\n",
        "### 지도학습의 종류\n",
        "\n",
        "- 분류: 샘플을 몇 개의 클래스 중 하나로 분류하는 문제\n",
        "- 회귀: 샘플을 클래스 중 하나로 분류하는 것이 아닌, **임의의 어떤 숫자를 예측하는 문제**\n",
        "    - 예를 들어 내년의 경제 성장률을 예측하는 문제, 농어의 무게를 예측하는 문제 등\n",
        "    - 정해진 클래스가 없고, 임의의 수치를 출력함\n",
        "\n",
        "### k-최근접 이웃 회귀\n",
        "\n",
        "- k-최근접 이웃 분류 알고리즘과 비슷하게, 수치를 예측하려는 샘플 X 로부터 가장 인접한 k개의 샘플을 선택하고, 이 샘플들의 타깃(여기서는 클래스가 아닌 임의의 수치임)값의 평균을 구해 그것을 X의 타깃값으로 예측함.\n",
        "- 쉽게 설명하면, 근처 가까운 k개 샘플 뽑고, 이 샘플들의 타깃값(수치)의 평균을 구함.\n",
        "- 예를 들어 이웃한 샘플들의 타깃값이 각각 100, 80, 60이면, 예측 타깃값은 80이 된다.\n",
        "\n",
        "### 데이터 준비\n",
        "\n",
        "농어의 길이만을 가지고 무게를 예측하려고 함. 그럼 이때, 길이가 특성이고, 무게가 타깃이 됨."
      ],
      "metadata": {
        "id": "FtTdThsTXndt"
      }
    },
    {
      "cell_type": "code",
      "execution_count": 1,
      "metadata": {
        "id": "ELuAoo-m8aR2"
      },
      "outputs": [],
      "source": [
        "import numpy as np\n",
        "\n",
        "perch_length = np.array([8.4, 13.7, 15.0, 16.2, 17.4, 18.0, 18.7, 19.0, 19.6, 20.0, 21.0,\n",
        "       21.0, 21.0, 21.3, 22.0, 22.0, 22.0, 22.0, 22.0, 22.5, 22.5, 22.7,\n",
        "       23.0, 23.5, 24.0, 24.0, 24.6, 25.0, 25.6, 26.5, 27.3, 27.5, 27.5,\n",
        "       27.5, 28.0, 28.7, 30.0, 32.8, 34.5, 35.0, 36.5, 36.0, 37.0, 37.0,\n",
        "       39.0, 39.0, 39.0, 40.0, 40.0, 40.0, 40.0, 42.0, 43.0, 43.0, 43.5,\n",
        "       44.0])\n",
        "perch_weight = np.array([5.9, 32.0, 40.0, 51.5, 70.0, 100.0, 78.0, 80.0, 85.0, 85.0, 110.0,\n",
        "       115.0, 125.0, 130.0, 120.0, 120.0, 130.0, 135.0, 110.0, 130.0,\n",
        "       150.0, 145.0, 150.0, 170.0, 225.0, 145.0, 188.0, 180.0, 197.0,\n",
        "       218.0, 300.0, 260.0, 265.0, 250.0, 250.0, 300.0, 320.0, 514.0,\n",
        "       556.0, 840.0, 685.0, 700.0, 700.0, 690.0, 900.0, 650.0, 820.0,\n",
        "       850.0, 900.0, 1015.0, 820.0, 1100.0, 1000.0, 1100.0, 1000.0,\n",
        "       1000.0])"
      ]
    },
    {
      "cell_type": "markdown",
      "source": [
        "특성 데이터 length를 x축에 두고, 타깃 데이터 weight를 y축에 둔 채로 산점도를 그려봄."
      ],
      "metadata": {
        "id": "cLfZxBttXx79"
      }
    },
    {
      "cell_type": "code",
      "source": [
        "import matplotlib.pyplot as plt\n",
        "plt.scatter(perch_length, perch_weight) # y축이 target data\n",
        "plt.xlabel('length')\n",
        "plt.ylabel('weight')\n",
        "plt.show()"
      ],
      "metadata": {
        "colab": {
          "base_uri": "https://localhost:8080/",
          "height": 449
        },
        "id": "oLT-1r3I82-m",
        "outputId": "a1b4160c-288a-4590-82e1-610608fadc23"
      },
      "execution_count": 2,
      "outputs": [
        {
          "output_type": "display_data",
          "data": {
            "text/plain": [
              "<Figure size 640x480 with 1 Axes>"
            ],
            "image/png": "[encoded data removed]"
          },
          "metadata": {}
        }
      ]
    },
    {
      "cell_type": "markdown",
      "source": [
        "머신러닝 모델에 사용하기 전에 이전과 같이 사이킷런의 train_test_split 메소드를 사용하여 훈련 세트와 테스트 세트로 나눔.\n",
        "\n",
        "perch_length가 input data, perch_weight가 target data로 들어가게 됨."
      ],
      "metadata": {
        "id": "KupSY5YKX04q"
      }
    },
    {
      "cell_type": "code",
      "source": [
        "from sklearn.model_selection import train_test_split\n",
        "train_input, test_input, train_target, test_target = train_test_split(perch_length, perch_weight, random_state = 42)"
      ],
      "metadata": {
        "colab": {
          "base_uri": "https://localhost:8080/"
        },
        "id": "_mPRLf2N9LWg",
        "outputId": "5caa8fb3-6bfe-4169-f453-5ccecfa2f606"
      },
      "execution_count": 7,
      "outputs": [
        {
          "output_type": "stream",
          "name": "stdout",
          "text": [
            "[19.6 22.  18.7 17.4 36.  25.  40.  39.  43.  22.  20.  22.  24.  27.5\n",
            " 43.  40.  24.  21.  27.5 40.  32.8 26.5 36.5 13.7 22.7 15.  37.  35.\n",
            " 28.7 23.5 39.  21.  23.  22.  44.  22.5 19.  37.  22.  25.6 42.  34.5]\n",
            "[ 8.4 18.  27.5 21.3 22.5 40.  30.  24.6 39.  21.  43.5 16.2 28.  27.3]\n",
            "[  85.  135.   78.   70.  700.  180.  850.  820. 1000.  120.   85.  130.\n",
            "  225.  260. 1100.  900.  145.  115.  265. 1015.  514.  218.  685.   32.\n",
            "  145.   40.  690.  840.  300.  170.  650.  110.  150.  110. 1000.  150.\n",
            "   80.  700.  120.  197. 1100.  556.]\n",
            "[   5.9  100.   250.   130.   130.   820.   320.   188.   900.   125.\n",
            " 1000.    51.5  250.   300. ]\n"
          ]
        }
      ]
    },
    {
      "cell_type": "markdown",
      "source": [
        "사이킷런에서 사용할 훈련 세트는 반드시 2차원 배열이어야 함. 따라서 reshape 메소드를 이용하여 1차원 → 2차원 배열로 바꿔줌."
      ],
      "metadata": {
        "id": "-DCmYzr8X2r0"
      }
    },
    {
      "cell_type": "code",
      "source": [
        "train_input = train_input.reshape(42, -1)\n",
        "test_input = test_input.reshape(14, -1)\n",
        "\n",
        "print(train_input.shape, test_input.shape)"
      ],
      "metadata": {
        "colab": {
          "base_uri": "https://localhost:8080/"
        },
        "id": "ogcga7Qm9uKz",
        "outputId": "57ad3f57-04ea-4254-a07a-0d3b89a43ad0"
      },
      "execution_count": 10,
      "outputs": [
        {
          "output_type": "stream",
          "name": "stdout",
          "text": [
            "(42, 1) (14, 1)\n"
          ]
        }
      ]
    },
    {
      "cell_type": "markdown",
      "source": [
        "### 결정계수\n",
        "\n",
        "- KNeighborsRegressor 클래스를 import하여 k-최근접 이웃 회귀 알고리즘을 사용할 수 있음."
      ],
      "metadata": {
        "id": "xBzBLVm1X3XR"
      }
    },
    {
      "cell_type": "code",
      "source": [
        "from sklearn.neighbors import KNeighborsRegressor\n",
        "knr = KNeighborsRegressor()\n",
        "\n",
        "knr.fit(train_input, train_target)\n",
        "print(knr.score(test_input, test_target))"
      ],
      "metadata": {
        "colab": {
          "base_uri": "https://localhost:8080/"
        },
        "id": "5e7oOk4I-asf",
        "outputId": "bdafd8b3-74c1-4c9c-e987-47d5fcea18ac"
      },
      "execution_count": 12,
      "outputs": [
        {
          "output_type": "stream",
          "name": "stdout",
          "text": [
            "0.992809406101064\n"
          ]
        }
      ]
    },
    {
      "cell_type": "markdown",
      "source": [
        "- 분류에서 score은 테스트 세트의 샘플을 정확하게 분류한 개수의 비율을 뜻했음. 회귀의 경우, **임의의 수치인 타깃값을 예측으로 정확하게 맞추는 것이 매우 어렵기 때문에,** 다른 방법으로 score 값을 평가함.\n",
        "- 바로 **결정계수**(coefficient of determination)을 점수로 사용함. 일반적으로  R²로 표기.\n",
        "    - 모델이 그냥 모든 타깃값을 평균으로 찍는 것보다 얼마나 더 잘하는지를 평가"
      ],
      "metadata": {
        "id": "yvvYuBDgX5Ea"
      }
    },
    {
      "cell_type": "code",
      "source": [
        "print(knr.score(test_input, test_target))"
      ],
      "metadata": {
        "id": "AgNHRDLkYZ6U"
      },
      "execution_count": null,
      "outputs": []
    },
    {
      "cell_type": "markdown",
      "source": [
        "- 타깃과 예측한 값 사이의 차이를 구하려면 사이킷런의 mean_absolute_error 클래스를 import 하면 된다.\n",
        "- 타깃값과 예측값 사이의 절댓값 오차를 평균하여 반환함."
      ],
      "metadata": {
        "id": "vNoc-HB3X7CY"
      }
    },
    {
      "cell_type": "code",
      "source": [
        "from sklearn.metrics import mean_absolute_error\n",
        "test_prediction = knr.predict(test_input) # 테스트 세트에 대한 예측을 만듬\n",
        "print(test_prediction)\n",
        "\n",
        "mae = mean_absolute_error(test_prediction, test_target) # 정답과 비교\n",
        "print(mae)"
      ],
      "metadata": {
        "colab": {
          "base_uri": "https://localhost:8080/"
        },
        "id": "fSWY0gR7-7fQ",
        "outputId": "37f38c57-af17-4a92-e005-513f64823afb"
      },
      "execution_count": 15,
      "outputs": [
        {
          "output_type": "stream",
          "name": "stdout",
          "text": [
            "[  60.    79.6  248.   122.   136.   847.   311.4  183.4  847.   113.\n",
            " 1010.    60.   248.   248. ]\n",
            "19.157142857142862\n"
          ]
        }
      ]
    },
    {
      "cell_type": "markdown",
      "source": [
        "### 과대적합 vs 과소적합\n",
        "\n",
        "- 과대적합은 훈련 세트에서 점수가 굉장히 좋았는데, 테스트 세트에서 점수가 굉장히 나쁘게 나오는 모델임. 즉, 훈련 세트에만 잘 맞는 모델임.\n",
        "- 과소적합은 훈련 세트보다 테스트 세트에서 점수가 더 높거나, 두 점수가 모두 너무 낮은 모델임. 모델이 너무 단순하여 적절히 훈련되지 않은 경우 발생함.\n",
        "    - 훈련 세트와 테스트 세트의 크기가 너무 작기 때문에 발생함. 제대로 일반화를 하지 못하는 경우.\n",
        "\n",
        "아래는 훈련 세트보다 테스트 세트가 score가 더 높음. 보통 상식적으로 생각했을 때, 훈련 세트가 더 score가 높아야 할 것임 → 과소적합 발생한 모델"
      ],
      "metadata": {
        "id": "VWDXiejqX_y3"
      }
    },
    {
      "cell_type": "code",
      "source": [
        "print(knr.score(test_input, test_target))\n",
        "print(knr.score(train_input, train_target))"
      ],
      "metadata": {
        "colab": {
          "base_uri": "https://localhost:8080/"
        },
        "id": "iMU3p9hTCHz2",
        "outputId": "d84a1527-c1bc-40fa-8887-a2557465452b"
      },
      "execution_count": 18,
      "outputs": [
        {
          "output_type": "stream",
          "name": "stdout",
          "text": [
            "0.992809406101064\n",
            "0.9698823289099254\n"
          ]
        }
      ]
    },
    {
      "cell_type": "markdown",
      "source": [
        "- 과소적합 문제를 해결하려면 모델을 더 복잡하게 만들어야 함. 이는 이웃한 **k의 개수를 줄이는 방식**으로 달성할 수 있음.\n",
        "    - k의 개수를 늘리면 데이터 전반에 있는 일반적인 패턴을 따르게 되고, 반대로 줄이게 되면 훈련 세트에 있는 국지적인 패턴에 민감해지기 때문임.\n",
        "\n",
        "아래의 경우 5 → 3개로 인접한 샘플의 수를 줄임. 결과는 훈련 세트가 테스트 세트보다 더 나은 score을 기록하므로, 과소적합 문제를 해결함."
      ],
      "metadata": {
        "id": "B04AqOn3YCND"
      }
    },
    {
      "cell_type": "code",
      "source": [
        "knr.n_neighbors = 3\n",
        "\n",
        "knr.fit(train_input, train_target)\n",
        "print(knr.score(train_input, train_target)) # 훈련 세트 결정계수 측정\n",
        "print(knr.score(test_input, test_target)) # 테스트 세트 결정계수 측정"
      ],
      "metadata": {
        "colab": {
          "base_uri": "https://localhost:8080/"
        },
        "id": "c_Zi8SQmENiS",
        "outputId": "199133f3-8b37-41a9-841e-171f9cf3ef06"
      },
      "execution_count": 20,
      "outputs": [
        {
          "output_type": "stream",
          "name": "stdout",
          "text": [
            "0.9804899950518966\n",
            "0.9746459963987609\n"
          ]
        }
      ]
    },
    {
      "cell_type": "markdown",
      "source": [
        "# 03-2. 선형 회귀\n",
        "\n",
        "### 50cm 농어의 무게를 k-최근접 이웃 회귀로 예측하기\n",
        "\n",
        "50cm 농어의 무게를 예측해 보자. 1033.3 g 정도가 나간다고 모델이 예측하였다. 하지만 실제 농어는 이보다 더 무겁다."
      ],
      "metadata": {
        "id": "R01PGkPsYkTe"
      }
    },
    {
      "cell_type": "code",
      "source": [
        "print(knr.predict([[50]]))"
      ],
      "metadata": {
        "colab": {
          "base_uri": "https://localhost:8080/"
        },
        "id": "OTcFMx-SFoUs",
        "outputId": "08ef1ec0-ffc7-4799-fa13-0ae477527b98"
      },
      "execution_count": 21,
      "outputs": [
        {
          "output_type": "stream",
          "name": "stdout",
          "text": [
            "[1033.33333333]\n"
          ]
        }
      ]
    },
    {
      "cell_type": "markdown",
      "source": [
        "그 원인은 샘플에서 인접한 3개의 샘플을 뽑아 산점도에 표시했을 때 쉽게 알 수 있다. 그냥 3개의 샘플의 평균 length 값을 반영해 예측 타깃값을 출력한 것이다.\n",
        "\n",
        "즉, 새로운 샘플이 **훈련 세트의 범위를 벗어나게 되면 엉뚱한 값을 예측**할 수도 있다."
      ],
      "metadata": {
        "id": "AGtZVLMPYDw3"
      }
    },
    {
      "cell_type": "code",
      "source": [
        "distances, indexes = knr.kneighbors([[50]])\n",
        "plt.scatter(train_input, train_target)\n",
        "plt.scatter(train_input[indexes], train_target[indexes], marker='D')\n",
        "plt.scatter(50, knr.predict([[50]]), marker='^')\n",
        "plt.show()"
      ],
      "metadata": {
        "colab": {
          "base_uri": "https://localhost:8080/",
          "height": 430
        },
        "id": "f4QFttPVKCiG",
        "outputId": "ef0798bb-cbdc-421b-a0fd-f84790cb7a11"
      },
      "execution_count": 27,
      "outputs": [
        {
          "output_type": "display_data",
          "data": {
            "text/plain": [
              "<Figure size 640x480 with 1 Axes>"
            ],
            "image/png": "[encoded data removed]"
          },
          "metadata": {}
        }
      ]
    },
    {
      "cell_type": "markdown",
      "source": [
        "### 선형 회귀\n",
        "\n",
        "- 가장 널리 사용되는 대표적인 회귀 알고리즘\n",
        "- 특성이 하나인 경우, 직선을 학습함. 즉**, feature를 가장 잘 나타낼 수 있는 직선을 자동으로 찾는 머신러닝 알고리즘.**\n",
        "- LinearRegression 클래스를 import 하여 사용함\n",
        "\n",
        "fit을 사용하여 모델을 학습시키면, 모델은 자동으로 feature를 가장 잘 표현하는 직선을 하나 찾아낸다. 아래는 그 직선을 찾고 predict한 모습임."
      ],
      "metadata": {
        "id": "46LZ1rITYpVv"
      }
    },
    {
      "cell_type": "code",
      "source": [
        "from sklearn.linear_model import LinearRegression\n",
        "lr = LinearRegression()\n",
        "\n",
        "lr.fit(train_input, train_target) # 선형 회귀 모델 훈련 -> 가장 적합한 직선 찾아냄\n",
        "print(lr.predict([[50]]))"
      ],
      "metadata": {
        "colab": {
          "base_uri": "https://localhost:8080/"
        },
        "id": "qIrhRFTqKaTj",
        "outputId": "3ba02f65-45f4-4e91-d0c8-14d1e9a518c5"
      },
      "execution_count": 29,
      "outputs": [
        {
          "output_type": "stream",
          "name": "stdout",
          "text": [
            "[1241.83860323]\n"
          ]
        }
      ]
    },
    {
      "cell_type": "markdown",
      "source": [
        "직선은 y = ax + b와 같은 형태로 표현된다. 여기서 a가 coef_, b가 intercept_를 의미한다. x는 length, y는 weight."
      ],
      "metadata": {
        "id": "oxIxf_aRYrGc"
      }
    },
    {
      "cell_type": "code",
      "source": [
        "print(lr.coef_, lr.intercept_)"
      ],
      "metadata": {
        "colab": {
          "base_uri": "https://localhost:8080/"
        },
        "id": "rm9OWVTlL41v",
        "outputId": "ef50d7ff-37e8-4964-83a2-0f3e670e8edb"
      },
      "execution_count": 30,
      "outputs": [
        {
          "output_type": "stream",
          "name": "stdout",
          "text": [
            "[39.01714496] -709.0186449535477\n"
          ]
        }
      ]
    },
    {
      "cell_type": "markdown",
      "source": [
        "<aside>\n",
        "\n",
        "💡 coef_와 intercept_는 머신러닝 알고리즘이 찾은 값이라는 뜻에서 **모델 파라미터(model parameter)**라 부름.\n",
        "\n",
        "많은 머신러닝 알고리즘은 훈련을 할 때 **최적의 model parameter를 찾는 것**을 목표로 함.\n",
        "\n",
        "이를 **모델 기반 학습**이라 함.\n",
        "\n",
        "이와 반대로 k-최근접 이웃 알고리즘처럼 훈련 세트를 저장하고 그렇게 저장한 것 자체를 훈련으로 는 것을 사례 기반 학습이라 함.\n",
        "\n",
        "</aside>\n",
        "\n",
        "선형 회귀 모델이 찾아낸 최적의 직선을 산점도에 그려보면 아래와 같음. 예측한 타깃값은 직선이 통과함\n",
        "\n",
        "→ 이렇게 하면 훈련 세트의 범위를 벗어난 샘플도 타깃값을 예측할 수 있게 됨."
      ],
      "metadata": {
        "id": "cv0tjxAmYs0S"
      }
    },
    {
      "cell_type": "code",
      "source": [
        "plt.scatter(train_input, train_target)\n",
        "plt.plot([15, 50], [15*lr.coef_+lr.intercept_, 50*lr.coef_+lr.intercept_]) # 15에서 50까지 1차 방정식 그래프 그림\n",
        "plt.scatter(50, lr.predict([[50]]), marker='^')\n",
        "plt.xlabel('length')\n",
        "plt.ylabel('weight')\n",
        "plt.show()"
      ],
      "metadata": {
        "colab": {
          "base_uri": "https://localhost:8080/",
          "height": 449
        },
        "id": "Id0BJjZbMOsE",
        "outputId": "402c12af-4293-48a5-9b9d-9e04dfd18c86"
      },
      "execution_count": 33,
      "outputs": [
        {
          "output_type": "display_data",
          "data": {
            "text/plain": [
              "<Figure size 640x480 with 1 Axes>"
            ],
            "image/png": "[encoded data removed]"
          },
          "metadata": {}
        }
      ]
    },
    {
      "cell_type": "markdown",
      "source": [
        "그런데, 보면 알겠지만 두 경우 결정 계수가 다 너무 안 좋음. 따라서 전체적으로 과소적합 돼 있다고 볼 수 있음. 그리고 위의 산점도에서 직선을 보면 알겠지만, weight가 음수인 샘플도 존재함 ⇒ 무게가 마이너스인 농어가 있다?"
      ],
      "metadata": {
        "id": "EWjiqQ3eYzNd"
      }
    },
    {
      "cell_type": "code",
      "source": [
        "print(lr.score(train_input, train_target)) # 훈련 세트의 결정계수 출력\n",
        "print(lr.score(test_input, test_target)) # 테스트 세트의 결정계수도 출력"
      ],
      "metadata": {
        "colab": {
          "base_uri": "https://localhost:8080/"
        },
        "id": "iOWXxADmOvZt",
        "outputId": "f5019684-8f4b-4279-8e02-43876a2fac90"
      },
      "execution_count": 34,
      "outputs": [
        {
          "output_type": "stream",
          "name": "stdout",
          "text": [
            "0.939846333997604\n",
            "0.8247503123313558\n"
          ]
        }
      ]
    },
    {
      "cell_type": "markdown",
      "source": [
        "### 다항 회귀\n",
        "\n",
        "- 다항 회귀는 다항식을 사용한 선형 회귀의 한 종류임.\n",
        "- 선형 회귀에서 선형은 input과 target 사이의 관계가 아닌, **가중치(coef)와 target 사이의 관계를 의미함.**\n",
        "\n",
        "농어의 길이와 무게에 대한 산점도는 자세히 보면 일직선이 아닌 곡선에 가까움. 따라서 feature를 가장 잘 나타낼 수 있는 곡선을 찾아야 함 → **즉, 2차 방정식의 계수와 절편을 구해야 함.**\n",
        "\n",
        "column_stack 메소드를 사용하여 train_input을 제곱한 feature를 기존 feature 앞에 추가한다. 그리고 바로 fit으로 모델 훈련을 시킨다. 모델은 y = ax^2+bx+c에서 feature를 가장 잘 표현하는, **가장 적합한 a, b, c을 찾음**"
      ],
      "metadata": {
        "id": "t9oGVU-uY1JO"
      }
    },
    {
      "cell_type": "code",
      "source": [
        "train_poly = np.column_stack((train_input ** 2, train_input))\n",
        "test_poly = np.column_stack((test_input ** 2, test_input))\n",
        "\n",
        "lr.fit(train_poly, train_target)\n",
        "print(lr.predict([[50**2, 50]]))"
      ],
      "metadata": {
        "colab": {
          "base_uri": "https://localhost:8080/"
        },
        "id": "M3ECTfRBPutn",
        "outputId": "8b285d62-aff1-49b7-d076-17e12a6f5334"
      },
      "execution_count": 37,
      "outputs": [
        {
          "output_type": "stream",
          "name": "stdout",
          "text": [
            "[1573.98423528]\n"
          ]
        }
      ]
    },
    {
      "cell_type": "markdown",
      "source": [
        "아래는 모델 훈련으로 찾은 계수와 절편임."
      ],
      "metadata": {
        "id": "-mdFlaSfY3AI"
      }
    },
    {
      "cell_type": "code",
      "source": [
        "print(lr.coef_, lr.intercept_)"
      ],
      "metadata": {
        "colab": {
          "base_uri": "https://localhost:8080/"
        },
        "id": "z4Xxfgp1RNUe",
        "outputId": "d4c6c48d-3d9e-4d49-cfa6-d74613d45e34"
      },
      "execution_count": 38,
      "outputs": [
        {
          "output_type": "stream",
          "name": "stdout",
          "text": [
            "[  1.01433211 -21.55792498] 116.0502107827827\n"
          ]
        }
      ]
    },
    {
      "cell_type": "code",
      "source": [
        "point = np.arange(15, 50) # 구간별 직선 그리기 위해 15~49 정수 배열 만듬\n",
        "plt.scatter(train_input, train_target)\n",
        "plt.plot(point, lr.coef_[0]*point**2+lr.coef_[1]*point+lr.intercept_)\n",
        "plt.scatter(50, lr.coef_[0]*50**2+lr.coef_[1]*50+lr.intercept_, marker='^')\n",
        "plt.show()"
      ],
      "metadata": {
        "colab": {
          "base_uri": "https://localhost:8080/",
          "height": 430
        },
        "id": "UsNcvDjjSYdz",
        "outputId": "30550cd0-6215-4af9-b50d-6e0f76dacebb"
      },
      "execution_count": 44,
      "outputs": [
        {
          "output_type": "display_data",
          "data": {
            "text/plain": [
              "<Figure size 640x480 with 1 Axes>"
            ],
            "image/png": "[encoded data removed]"
          },
          "metadata": {}
        }
      ]
    },
    {
      "cell_type": "markdown",
      "source": [
        "그런데, 결정계수를 print하면 훈련 세트의 값보다 테스트 세트의 값이 더 큰 것을 확인할 수 있다 → 과소적합 문제 발생"
      ],
      "metadata": {
        "id": "AE6U6h92Y40C"
      }
    },
    {
      "cell_type": "code",
      "source": [
        "print(lr.score(train_poly, train_target))\n",
        "print(lr.score(test_poly, test_target))"
      ],
      "metadata": {
        "colab": {
          "base_uri": "https://localhost:8080/"
        },
        "id": "MPAteCNXUCWJ",
        "outputId": "3b06ad7c-ed8d-4b56-b114-9b2f6e225406"
      },
      "execution_count": 49,
      "outputs": [
        {
          "output_type": "stream",
          "name": "stdout",
          "text": [
            "0.9706807451768623\n",
            "0.9775935108325122\n"
          ]
        }
      ]
    }
  ]
}