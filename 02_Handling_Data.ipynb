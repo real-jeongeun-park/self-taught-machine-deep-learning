{
  "nbformat": 4,
  "nbformat_minor": 0,
  "metadata": {
    "colab": {
      "provenance": []
    },
    "kernelspec": {
      "name": "python3",
      "display_name": "Python 3"
    },
    "language_info": {
      "name": "python"
    }
  },
  "cells": [
    {
      "cell_type": "markdown",
      "source": [
        "<aside>\n",
        "\n",
        "🦦 **수상한 생선을 조심하라!**\n",
        "\n",
        "</aside>\n",
        "\n",
        "# 02-1. 훈련 세트와 테스트 세트\n",
        "\n",
        "### 머신러닝의 종류\n",
        "\n",
        "- 지도 학습(supervised learning)\n",
        "- 비지도 학습(unsupervised learning)\n",
        "\n",
        "### 지도 학습\n",
        "\n",
        "- 훈련하기 위한 데이터와 정답이 필요한 알고리즘임. 여기서 데이터는 **입력**(input)이라 부르고, 정답은 **타깃**(taget)이라 부른다. 이 둘을 합쳐서 훈련 데이터(training data)라 한다.\n",
        "    - input + target = training data\n",
        "- 정답이 주어지므로 알고리즘이 정답을 맞히는 것을 학습함. 예를 들어 도미이다(1) 또는 도미가 아니다(0).\n",
        "\n",
        "### 비지도 학습\n",
        "\n",
        "- 타깃 없이 입력 데이터만을 사용함. 따라서, 무언가를 맞히는 것이 불가능함.\n",
        "- 대신 데이터를 잘 파악하거나, 변형하는 데 도움을 줌.\n",
        "\n",
        "### 훈련 세트와 테스트 세트\n",
        "\n",
        "- 머신러닝 알고리즘의 성능을 제대로 평가하려면 당연히 훈련 데이터와 테스트 데이터가 달라야 함.\n",
        "- 평가에 사용하는 데이터를 **테스트 세트**, 훈련에 사용하는 데이터를 훈련 세트라 함."
      ],
      "metadata": {
        "id": "12xIBi5aKU65"
      }
    },
    {
      "cell_type": "code",
      "execution_count": 6,
      "metadata": {
        "colab": {
          "base_uri": "https://localhost:8080/"
        },
        "id": "M5NX2rkbSnnp",
        "outputId": "014a3163-b127-47af-8c4f-cc560cbcbaf3"
      },
      "outputs": [
        {
          "output_type": "stream",
          "name": "stdout",
          "text": [
            "[25.4, 26.3, 26.5, 29.0, 29.0, 29.7, 29.7, 30.0, 30.0, 30.7, 31.0, 31.0, 31.5, 32.0, 32.0, 32.0, 33.0, 33.0, 33.5, 33.5, 34.0, 34.0, 34.5, 35.0, 35.0, 35.0, 35.0, 36.0, 36.0, 37.0, 38.5, 38.5, 39.5, 41.0, 41.0, 9.8, 10.5, 10.6, 11.0, 11.2, 11.3, 11.8, 11.8, 12.0, 12.2, 12.4, 13.0, 14.3, 15.0]\n",
            "[242.0, 290.0, 340.0, 363.0, 430.0, 450.0, 500.0, 390.0, 450.0, 500.0, 475.0, 500.0, 500.0, 340.0, 600.0, 600.0, 700.0, 700.0, 610.0, 650.0, 575.0, 685.0, 620.0, 680.0, 700.0, 725.0, 720.0, 714.0, 850.0, 1000.0, 920.0, 955.0, 925.0, 975.0, 950.0, 6.7, 7.5, 7.0, 9.7, 9.8, 8.7, 10.0, 9.9, 9.8, 12.2, 13.4, 12.2, 19.7, 19.9]\n"
          ]
        }
      ],
      "source": [
        "bream_length = [25.4, 26.3, 26.5, 29.0, 29.0, 29.7, 29.7, 30.0, 30.0, 30.7, 31.0, 31.0,\n",
        "                31.5, 32.0, 32.0, 32.0, 33.0, 33.0, 33.5, 33.5, 34.0, 34.0, 34.5, 35.0,\n",
        "                35.0, 35.0, 35.0, 36.0, 36.0, 37.0, 38.5, 38.5, 39.5, 41.0, 41.0]\n",
        "bream_weight = [242.0, 290.0, 340.0, 363.0, 430.0, 450.0, 500.0, 390.0, 450.0, 500.0, 475.0, 500.0,\n",
        "                500.0, 340.0, 600.0, 600.0, 700.0, 700.0, 610.0, 650.0, 575.0, 685.0, 620.0, 680.0,\n",
        "                700.0, 725.0, 720.0, 714.0, 850.0, 1000.0, 920.0, 955.0, 925.0, 975.0, 950.0]\n",
        "\n",
        "smelt_length = [9.8, 10.5, 10.6, 11.0, 11.2, 11.3, 11.8, 11.8, 12.0, 12.2, 12.4, 13.0, 14.3, 15.0]\n",
        "smelt_weight = [6.7, 7.5, 7.0, 9.7, 9.8, 8.7, 10.0, 9.9, 9.8, 12.2, 13.4, 12.2, 19.7, 19.9]\n",
        "\n",
        "fish_length = bream_length + smelt_length\n",
        "fish_weight = bream_weight + smelt_weight\n",
        "\n",
        "print(fish_length)\n",
        "print(fish_weight)\n"
      ]
    },
    {
      "cell_type": "markdown",
      "source": [
        "아래와 같이 만들어진 생성 데이터 fish_data를 **샘플(sample)**이라 부른다. 전체 데이터에는 49개의 샘플이 존재한다.\n",
        "\n",
        "fish_target은 정답 데이터를 담고 있다."
      ],
      "metadata": {
        "id": "65FZJN6IKf4i"
      }
    },
    {
      "cell_type": "code",
      "source": [
        "fish_data = [[l, w] for l, w in zip(fish_length, fish_weight)]\n",
        "fish_target = [1]*35 + [0]*14\n",
        "print(fish_data)\n",
        "print(fish_target)"
      ],
      "metadata": {
        "colab": {
          "base_uri": "https://localhost:8080/"
        },
        "id": "S_RqVXEiSyKj",
        "outputId": "25c5f677-057b-4742-bf9b-ce9fc281ce53"
      },
      "execution_count": 8,
      "outputs": [
        {
          "output_type": "stream",
          "name": "stdout",
          "text": [
            "[[25.4, 242.0], [26.3, 290.0], [26.5, 340.0], [29.0, 363.0], [29.0, 430.0], [29.7, 450.0], [29.7, 500.0], [30.0, 390.0], [30.0, 450.0], [30.7, 500.0], [31.0, 475.0], [31.0, 500.0], [31.5, 500.0], [32.0, 340.0], [32.0, 600.0], [32.0, 600.0], [33.0, 700.0], [33.0, 700.0], [33.5, 610.0], [33.5, 650.0], [34.0, 575.0], [34.0, 685.0], [34.5, 620.0], [35.0, 680.0], [35.0, 700.0], [35.0, 725.0], [35.0, 720.0], [36.0, 714.0], [36.0, 850.0], [37.0, 1000.0], [38.5, 920.0], [38.5, 955.0], [39.5, 925.0], [41.0, 975.0], [41.0, 950.0], [9.8, 6.7], [10.5, 7.5], [10.6, 7.0], [11.0, 9.7], [11.2, 9.8], [11.3, 8.7], [11.8, 10.0], [11.8, 9.9], [12.0, 9.8], [12.2, 12.2], [12.4, 13.4], [13.0, 12.2], [14.3, 19.7], [15.0, 19.9]]\n",
            "[1, 1, 1, 1, 1, 1, 1, 1, 1, 1, 1, 1, 1, 1, 1, 1, 1, 1, 1, 1, 1, 1, 1, 1, 1, 1, 1, 1, 1, 1, 1, 1, 1, 1, 1, 0, 0, 0, 0, 0, 0, 0, 0, 0, 0, 0, 0, 0, 0]\n"
          ]
        }
      ]
    },
    {
      "cell_type": "markdown",
      "source": [
        "### 샘플링 편향\n",
        "\n",
        "- 훈련 세트와 테스트 세트에서 샘플(한 행 또는 데이터 하나. 여기서는 빙어와 도미)이 골고루 섞여있지 않아 샘플링이 한 쪽에 치우치는 현상.\n",
        "- 훈련 세트와 테스트 세트에 있는 샘플의 **클래스(빙어와 도미) 비율**이 다르면 제대로 된 지도 학습 모델을 만들 수 없음.\n",
        "\n",
        "아래는 훈련 데이터를 numpy로 바꿔 실행시킨 모습임. input_arr.shape을 하면, `(49, 2)`로 49개의 샘플과 2개의 특성(feature)가 있음을 확인할 수 있다."
      ],
      "metadata": {
        "id": "VZh7SMT2KiMl"
      }
    },
    {
      "cell_type": "code",
      "source": [
        "import numpy as np\n",
        "\n",
        "input_arr = np.array(fish_data) # input\n",
        "target_arr = np.array(fish_target) # target. 정답\n",
        "\n",
        "print(input_arr)\n",
        "print(target_arr)\n",
        "\n",
        "print(input_arr.shape)"
      ],
      "metadata": {
        "colab": {
          "base_uri": "https://localhost:8080/"
        },
        "id": "h6JenLyjTb1W",
        "outputId": "fe7251f4-dbae-482a-893b-da77e0a96986"
      },
      "execution_count": 12,
      "outputs": [
        {
          "output_type": "stream",
          "name": "stdout",
          "text": [
            "[[  25.4  242. ]\n",
            " [  26.3  290. ]\n",
            " [  26.5  340. ]\n",
            " [  29.   363. ]\n",
            " [  29.   430. ]\n",
            " [  29.7  450. ]\n",
            " [  29.7  500. ]\n",
            " [  30.   390. ]\n",
            " [  30.   450. ]\n",
            " [  30.7  500. ]\n",
            " [  31.   475. ]\n",
            " [  31.   500. ]\n",
            " [  31.5  500. ]\n",
            " [  32.   340. ]\n",
            " [  32.   600. ]\n",
            " [  32.   600. ]\n",
            " [  33.   700. ]\n",
            " [  33.   700. ]\n",
            " [  33.5  610. ]\n",
            " [  33.5  650. ]\n",
            " [  34.   575. ]\n",
            " [  34.   685. ]\n",
            " [  34.5  620. ]\n",
            " [  35.   680. ]\n",
            " [  35.   700. ]\n",
            " [  35.   725. ]\n",
            " [  35.   720. ]\n",
            " [  36.   714. ]\n",
            " [  36.   850. ]\n",
            " [  37.  1000. ]\n",
            " [  38.5  920. ]\n",
            " [  38.5  955. ]\n",
            " [  39.5  925. ]\n",
            " [  41.   975. ]\n",
            " [  41.   950. ]\n",
            " [   9.8    6.7]\n",
            " [  10.5    7.5]\n",
            " [  10.6    7. ]\n",
            " [  11.     9.7]\n",
            " [  11.2    9.8]\n",
            " [  11.3    8.7]\n",
            " [  11.8   10. ]\n",
            " [  11.8    9.9]\n",
            " [  12.     9.8]\n",
            " [  12.2   12.2]\n",
            " [  12.4   13.4]\n",
            " [  13.    12.2]\n",
            " [  14.3   19.7]\n",
            " [  15.    19.9]]\n",
            "[1 1 1 1 1 1 1 1 1 1 1 1 1 1 1 1 1 1 1 1 1 1 1 1 1 1 1 1 1 1 1 1 1 1 1 0 0\n",
            " 0 0 0 0 0 0 0 0 0 0 0 0]\n",
            "(49, 2)\n"
          ]
        }
      ]
    },
    {
      "cell_type": "markdown",
      "source": [
        "샘플링 편향을 해결하려면, 훈련 세트와 테스트 세트로 샘플들을 랜덤하게 나눠야 한다. 여기서는 인덱스를 랜덤하게 섞는 방식으로 나눠본다."
      ],
      "metadata": {
        "id": "Ig3P0zAKKjhF"
      }
    },
    {
      "cell_type": "code",
      "source": [
        "np.random.seed(42)\n",
        "index = np.arange(49)\n",
        "np.random.shuffle(index)\n",
        "print(index)"
      ],
      "metadata": {
        "colab": {
          "base_uri": "https://localhost:8080/"
        },
        "id": "mc_lAfIGWn3C",
        "outputId": "94995de5-c095-49f6-c560-4f939b8d3964"
      },
      "execution_count": 14,
      "outputs": [
        {
          "output_type": "stream",
          "name": "stdout",
          "text": [
            "[13 45 47 44 17 27 26 25 31 19 12  4 34  8  3  6 40 41 46 15  9 16 24 33\n",
            " 30  0 43 32  5 29 11 36  1 21  2 37 35 23 39 10 22 18 48 20  7 42 14 28\n",
            " 38]\n"
          ]
        }
      ]
    },
    {
      "cell_type": "markdown",
      "source": [
        "훈련 세트의 input과 target을 얻음"
      ],
      "metadata": {
        "id": "rC4CdTpUKo7M"
      }
    },
    {
      "cell_type": "code",
      "source": [
        "train_input = input_arr[index[:35]] # 인덱스 배열의 앞의 35개의 index -> 매핑되는 fish_data의 인덱스를 찾아 value를 train_input 안에 배열로 넣음\n",
        "train_target = target_arr[index[:35]]\n",
        "\n",
        "print(train_input)\n",
        "print(train_target)"
      ],
      "metadata": {
        "colab": {
          "base_uri": "https://localhost:8080/"
        },
        "id": "I0ChnEH_WXuh",
        "outputId": "01804232-5e78-49ad-8f59-f01533174303"
      },
      "execution_count": 17,
      "outputs": [
        {
          "output_type": "stream",
          "name": "stdout",
          "text": [
            "[[  32.   340. ]\n",
            " [  12.4   13.4]\n",
            " [  14.3   19.7]\n",
            " [  12.2   12.2]\n",
            " [  33.   700. ]\n",
            " [  36.   714. ]\n",
            " [  35.   720. ]\n",
            " [  35.   725. ]\n",
            " [  38.5  955. ]\n",
            " [  33.5  650. ]\n",
            " [  31.5  500. ]\n",
            " [  29.   430. ]\n",
            " [  41.   950. ]\n",
            " [  30.   450. ]\n",
            " [  29.   363. ]\n",
            " [  29.7  500. ]\n",
            " [  11.3    8.7]\n",
            " [  11.8   10. ]\n",
            " [  13.    12.2]\n",
            " [  32.   600. ]\n",
            " [  30.7  500. ]\n",
            " [  33.   700. ]\n",
            " [  35.   700. ]\n",
            " [  41.   975. ]\n",
            " [  38.5  920. ]\n",
            " [  25.4  242. ]\n",
            " [  12.     9.8]\n",
            " [  39.5  925. ]\n",
            " [  29.7  450. ]\n",
            " [  37.  1000. ]\n",
            " [  31.   500. ]\n",
            " [  10.5    7.5]\n",
            " [  26.3  290. ]\n",
            " [  34.   685. ]\n",
            " [  26.5  340. ]]\n",
            "[1 0 0 0 1 1 1 1 1 1 1 1 1 1 1 1 0 0 0 1 1 1 1 1 1 1 0 1 1 1 1 0 1 1 1]\n"
          ]
        }
      ]
    },
    {
      "cell_type": "markdown",
      "source": [
        "테스트 세트의 input과 target을 얻음"
      ],
      "metadata": {
        "id": "-BgW70T8KqMK"
      }
    },
    {
      "cell_type": "code",
      "source": [
        "test_input = input_arr[index[35:]]\n",
        "test_target = target_arr[index[35:]]\n",
        "\n",
        "print(test_input)\n",
        "print(test_target)"
      ],
      "metadata": {
        "id": "lpXZrIjQYQda"
      },
      "execution_count": 24,
      "outputs": []
    },
    {
      "cell_type": "markdown",
      "source": [
        "훈련 세트와 테스트 세트에 도미와 빙어가 잘 섞였는지를 확인하기 위해 산점도로 그려봄.\n",
        "\n",
        "파란색이 훈련 세트이고, 주황색이 테스트 세트이므로 잘 섞였음을 확인할 수 있음."
      ],
      "metadata": {
        "id": "C_g8WMXEKrup"
      }
    },
    {
      "cell_type": "code",
      "source": [
        "import matplotlib.pyplot as plt\n",
        "\n",
        "plt.scatter(train_input[:, 0], train_input[:, 1]) # 앞이 length, 뒤가 weight\n",
        "plt.scatter(test_input[:, 0], test_input[:, 1])\n",
        "plt.xlabel('length')\n",
        "plt.ylabel('weight')\n",
        "plt.show\n"
      ],
      "metadata": {
        "colab": {
          "base_uri": "https://localhost:8080/",
          "height": 449
        },
        "id": "_oHUnN4-YokI",
        "outputId": "b6993b28-993f-41e8-fb59-7073e97f7a52"
      },
      "execution_count": 22,
      "outputs": [
        {
          "output_type": "display_data",
          "data": {
            "text/plain": [
              "<Figure size 640x480 with 1 Axes>"
            ],
            "image/png": "[encoded data removed]"
          },
          "metadata": {}
        }
      ]
    },
    {
      "cell_type": "markdown",
      "source": [],
      "metadata": {
        "id": "j5mO5ufKZt2a"
      }
    },
    {
      "cell_type": "code",
      "source": [
        "from sklearn.neighbors import KNeighborsClassifier\n",
        "kn = KNeighborsClassifier()\n",
        "\n",
        "kn.fit(train_input, train_target) # 훈련할 인풋을 주고, 인풋에 대한 정답(target)을 줘서 훈련시킴\n",
        "kn.score(test_input, test_target) # 테스트 인풋과 인풋에 대한 정답을 주고 정확도를 확인함"
      ],
      "metadata": {
        "colab": {
          "base_uri": "https://localhost:8080/"
        },
        "id": "3L4IXBcZZl94",
        "outputId": "d430b3be-3214-4e5f-b8bf-f939ebb73fec"
      },
      "execution_count": 23,
      "outputs": [
        {
          "output_type": "execute_result",
          "data": {
            "text/plain": [
              "1.0"
            ]
          },
          "metadata": {},
          "execution_count": 23
        }
      ]
    },
    {
      "cell_type": "markdown",
      "source": [],
      "metadata": {
        "id": "PJrtmvppK05V"
      }
    },
    {
      "cell_type": "markdown",
      "source": [
        "# 02-2. 데이터 전처리\n",
        "\n",
        "### 넘파이로 샘플링 편향 문제 해결하기\n",
        "\n",
        "<aside>\n",
        "\n",
        "\n",
        "🐟 올바른 결과를 도출하기 위해서는 데이터를 사용하기 전에 **데이터 전처리 과정**을 거쳐야 한다. 이에 관해 표준점수로 특성의 스케일을 변환하는 방법에 대해 익힌다.\n",
        "\n",
        "</aside>\n",
        "\n",
        "- 02-1절에서는 직접 리스트를 순회하며 2차원 fish_data를 생성했지만, numpy를 사용할 경우 **column_stack** 메소드를 써서 바로 2차원 훈련 데이터를 생성할 수 있다.\n",
        "- column_stack은 두 튜플을 일렬로 세운 후, 나란히 옆으로 붙인다."
      ],
      "metadata": {
        "id": "yEV1AoNzKyam"
      }
    },
    {
      "cell_type": "code",
      "source": [
        "bream_length = [25.4, 26.3, 26.5, 29.0, 29.0, 29.7, 29.7, 30.0, 30.0, 30.7, 31.0, 31.0,\n",
        "                31.5, 32.0, 32.0, 32.0, 33.0, 33.0, 33.5, 33.5, 34.0, 34.0, 34.5, 35.0,\n",
        "                35.0, 35.0, 35.0, 36.0, 36.0, 37.0, 38.5, 38.5, 39.5, 41.0, 41.0]\n",
        "bream_weight = [242.0, 290.0, 340.0, 363.0, 430.0, 450.0, 500.0, 390.0, 450.0, 500.0, 475.0, 500.0,\n",
        "                500.0, 340.0, 600.0, 600.0, 700.0, 700.0, 610.0, 650.0, 575.0, 685.0, 620.0, 680.0,\n",
        "                700.0, 725.0, 720.0, 714.0, 850.0, 1000.0, 920.0, 955.0, 925.0, 975.0, 950.0]\n",
        "\n",
        "smelt_length = [9.8, 10.5, 10.6, 11.0, 11.2, 11.3, 11.8, 11.8, 12.0, 12.2, 12.4, 13.0, 14.3, 15.0]\n",
        "smelt_weight = [6.7, 7.5, 7.0, 9.7, 9.8, 8.7, 10.0, 9.9, 9.8, 12.2, 13.4, 12.2, 19.7, 19.9]\n",
        "\n",
        "fish_length = bream_length + smelt_length\n",
        "fish_weight = bream_weight + smelt_weight\n",
        "\n",
        "fish_data = np.column_stack((fish_length, fish_weight))\n",
        "print(fish_data)"
      ],
      "metadata": {
        "colab": {
          "base_uri": "https://localhost:8080/"
        },
        "id": "2N0yhYmyanMW",
        "outputId": "aca635d7-1aa8-45b0-d7cc-d371ecf8bf15"
      },
      "execution_count": 26,
      "outputs": [
        {
          "output_type": "stream",
          "name": "stdout",
          "text": [
            "[[  25.4  242. ]\n",
            " [  26.3  290. ]\n",
            " [  26.5  340. ]\n",
            " [  29.   363. ]\n",
            " [  29.   430. ]\n",
            " [  29.7  450. ]\n",
            " [  29.7  500. ]\n",
            " [  30.   390. ]\n",
            " [  30.   450. ]\n",
            " [  30.7  500. ]\n",
            " [  31.   475. ]\n",
            " [  31.   500. ]\n",
            " [  31.5  500. ]\n",
            " [  32.   340. ]\n",
            " [  32.   600. ]\n",
            " [  32.   600. ]\n",
            " [  33.   700. ]\n",
            " [  33.   700. ]\n",
            " [  33.5  610. ]\n",
            " [  33.5  650. ]\n",
            " [  34.   575. ]\n",
            " [  34.   685. ]\n",
            " [  34.5  620. ]\n",
            " [  35.   680. ]\n",
            " [  35.   700. ]\n",
            " [  35.   725. ]\n",
            " [  35.   720. ]\n",
            " [  36.   714. ]\n",
            " [  36.   850. ]\n",
            " [  37.  1000. ]\n",
            " [  38.5  920. ]\n",
            " [  38.5  955. ]\n",
            " [  39.5  925. ]\n",
            " [  41.   975. ]\n",
            " [  41.   950. ]\n",
            " [   9.8    6.7]\n",
            " [  10.5    7.5]\n",
            " [  10.6    7. ]\n",
            " [  11.     9.7]\n",
            " [  11.2    9.8]\n",
            " [  11.3    8.7]\n",
            " [  11.8   10. ]\n",
            " [  11.8    9.9]\n",
            " [  12.     9.8]\n",
            " [  12.2   12.2]\n",
            " [  12.4   13.4]\n",
            " [  13.    12.2]\n",
            " [  14.3   19.7]\n",
            " [  15.    19.9]]\n"
          ]
        }
      ]
    },
    {
      "cell_type": "markdown",
      "source": [
        "기존의 리스트 방식과 다르게 fish_target (정답 배열)도 concatenate 메소드를 이용해 만든다."
      ],
      "metadata": {
        "id": "e1560R32K3Zu"
      }
    },
    {
      "cell_type": "code",
      "source": [
        "fish_target = np.concatenate((np.ones(35), np.zeros(14)))\n",
        "print(fish_target)"
      ],
      "metadata": {
        "colab": {
          "base_uri": "https://localhost:8080/"
        },
        "id": "XY-XM9eucG4q",
        "outputId": "b3bdacf4-5061-42cd-9a79-6852efce85f8"
      },
      "execution_count": 34,
      "outputs": [
        {
          "output_type": "stream",
          "name": "stdout",
          "text": [
            "[1. 1. 1. 1. 1. 1. 1. 1. 1. 1. 1. 1. 1. 1. 1. 1. 1. 1. 1. 1. 1. 1. 1. 1.\n",
            " 1. 1. 1. 1. 1. 1. 1. 1. 1. 1. 1. 0. 0. 0. 0. 0. 0. 0. 0. 0. 0. 0. 0. 0.\n",
            " 0.]\n"
          ]
        }
      ]
    },
    {
      "cell_type": "markdown",
      "source": [
        "- 앞의 shuffle 방식으로 섞어서 인덱스를 가지고 나누는 것은 상당히 번거로울 수 있음. 따라서 여기서는 사이킷런의 메소드를 사용함.\n",
        "- 사이킷런은 머신러닝 알고리즘 뿐만 아니라 다양한 유틸리티 도구를 제공함. 대표적인 도구가 train_test_split(). 리스트나 배열을 **비율에 맞게 자동으로 섞어** 훈련 세트와 테스트 세트로 나눠줌.\n",
        "- 아래의 경우, 기존의 훈련 데이터를 train_input과 test_input에 36개, 13개씩 나눠 배분했다. 이는 train_test_split 메소드가 전체 데이터 중 **25%를 테스트 세트로** 떼어내기 때문임."
      ],
      "metadata": {
        "id": "58Q-KCzvK97W"
      }
    },
    {
      "cell_type": "code",
      "source": [
        "from sklearn.model_selection import train_test_split\n",
        "train_input, test_input, train_target, test_target = train_test_split(fish_data, fish_target, random_state = 42)\n",
        "print(train_input.shape, train_target.shape)\n",
        "print(test_input.shape, test_target.shape)"
      ],
      "metadata": {
        "colab": {
          "base_uri": "https://localhost:8080/"
        },
        "id": "SXzGFjAOczrf",
        "outputId": "d342e19e-c9e4-49b8-b4a8-b70e67316ddb"
      },
      "execution_count": 42,
      "outputs": [
        {
          "output_type": "stream",
          "name": "stdout",
          "text": [
            "(36, 2) (36,)\n",
            "(13, 2) (13,)\n"
          ]
        }
      ]
    },
    {
      "cell_type": "markdown",
      "source": [
        "여기서 test_target을 print 하면, 1(도미)가 10개, 0(빙어)가 3개가 나온다. 이는 샘플링 편향이다. 원래 도미와 빙어의 수가 각각 35개, 14개 이므로 2.5:1 비율인데, 이 테스트 세트에서 target의 비율은 3.3:1이다. → 수정이 필요함"
      ],
      "metadata": {
        "id": "3dZW-whyK_mx"
      }
    },
    {
      "cell_type": "code",
      "source": [
        "print(test_target)"
      ],
      "metadata": {
        "colab": {
          "base_uri": "https://localhost:8080/"
        },
        "id": "qPsCTRZQeMzg",
        "outputId": "e541bac2-968e-46c0-ba03-a49fddf7023f"
      },
      "execution_count": 44,
      "outputs": [
        {
          "output_type": "stream",
          "name": "stdout",
          "text": [
            "[1. 0. 0. 0. 1. 1. 1. 1. 1. 1. 1. 1. 1.]\n"
          ]
        }
      ]
    },
    {
      "cell_type": "markdown",
      "source": [
        "train_test_split의 **stratify 매개변수에 target data를 전달하면** 클래스 비율(2.5:1)에 맞게 데이터를 다시 잘 나눠줌. 특정한 클래스의 샘플 수가 작을 경우 유용하다.\n",
        "\n",
        "이렇게 하고 print 할 경우 2.25:1 비율 맞춰짐."
      ],
      "metadata": {
        "id": "Lci1mn1JLCa6"
      }
    },
    {
      "cell_type": "code",
      "source": [
        "train_input, test_input, train_target, test_target = train_test_split(fish_data, fish_target, random_state = 42, stratify = fish_target)\n",
        "print(test_target) # 테스트 세트의 정답 배열"
      ],
      "metadata": {
        "colab": {
          "base_uri": "https://localhost:8080/"
        },
        "id": "kvdD6E58qyIy",
        "outputId": "afbf48be-15ab-47f5-d3c3-f47638f74237"
      },
      "execution_count": 46,
      "outputs": [
        {
          "output_type": "stream",
          "name": "stdout",
          "text": [
            "[0. 0. 1. 0. 1. 0. 1. 1. 1. 1. 1. 1. 1.]\n"
          ]
        }
      ]
    },
    {
      "cell_type": "markdown",
      "source": [
        "### 수상한 도미 한 마리\n",
        "\n",
        "길이가 25cm, 무게가 150g인 도미를 가지고 predict를 돌리면 0이 나옴. 0은 빙어라는 뜻. 이건 어떻게 된 것일까?"
      ],
      "metadata": {
        "id": "06DHk8NxLFaP"
      }
    },
    {
      "cell_type": "code",
      "source": [
        "from sklearn.neighbors import KNeighborsClassifier\n",
        "kn = KNeighborsClassifier()\n",
        "kn.fit(train_input, train_target) # 인풋, 타겟 넣음\n",
        "kn.score(test_input, test_target) # 정확도 확인\n",
        "\n",
        "result = kn.predict([[25, 150]]) # length = 25, weight = 150\n",
        "print(result) # -> 0 나옴"
      ],
      "metadata": {
        "colab": {
          "base_uri": "https://localhost:8080/"
        },
        "id": "QcTEazNmr9i6",
        "outputId": "4792faf7-64e5-40e4-fb90-2502ad5d0b8d"
      },
      "execution_count": 49,
      "outputs": [
        {
          "output_type": "stream",
          "name": "stdout",
          "text": [
            "[0.]\n"
          ]
        }
      ]
    },
    {
      "cell_type": "markdown",
      "source": [
        "주황색 세모가 현재 수상한 도미의 데이터값"
      ],
      "metadata": {
        "id": "y3Xk2zikLHM3"
      }
    },
    {
      "cell_type": "code",
      "source": [
        "plt.scatter(train_input[:, 0], train_input[:, 1]) # 훈련 세트의 input 중 length feature과 weight feature\n",
        "plt.scatter(25, 150, marker='^') # 25cm이고 150g인 도미도 찍음\n",
        "plt.xlabel('length')\n",
        "plt.ylabel('weight')\n",
        "plt.show()"
      ],
      "metadata": {
        "colab": {
          "base_uri": "https://localhost:8080/",
          "height": 449
        },
        "id": "REaB7qlvsqOx",
        "outputId": "bbd61608-bef2-47b4-bd02-b446f0d49a56"
      },
      "execution_count": 55,
      "outputs": [
        {
          "output_type": "display_data",
          "data": {
            "text/plain": [
              "<Figure size 640x480 with 1 Axes>"
            ],
            "image/png": "[encoded data removed]"
          },
          "metadata": {}
        }
      ]
    },
    {
      "cell_type": "markdown",
      "source": [
        "* KNeighborsClassifier 클래스 중 주어진 샘플과 가장 가까운 이웃 샘플을 찾아주는 kneighbors() 메소드를 사용해 산점도로 다시 표현해 보자.\n",
        "실제로는 가장 가까운 샘플 중 4개가 빙어, 1개가 도미이기 때문에 결과가 0(빙어)라고 나온 것이다.\n"
      ],
      "metadata": {
        "id": "g1zDQGzTLI8S"
      }
    },
    {
      "cell_type": "code",
      "source": [
        "distances, indexes = kn.kneighbors([[25, 150]])\n",
        "plt.scatter(train_input[:, 0], train_input[:, 1])\n",
        "plt.scatter(25,150, marker='^')\n",
        "plt.scatter(train_input[indexes, 0], train_input[indexes, 1], marker='D') # 그리고 그 중에서 가장 인접한 샘플들만 뽑아서 다시 찍어\n",
        "plt.xlabel('length')\n",
        "plt.ylabel('weight')\n",
        "plt.show()"
      ],
      "metadata": {
        "colab": {
          "base_uri": "https://localhost:8080/",
          "height": 449
        },
        "id": "or3G6V80tl3B",
        "outputId": "f5f21011-d60b-4059-9610-a540963a5cd5"
      },
      "execution_count": 60,
      "outputs": [
        {
          "output_type": "display_data",
          "data": {
            "text/plain": [
              "<Figure size 640x480 with 1 Axes>"
            ],
            "image/png": "[encoded data removed]"
          },
          "metadata": {}
        }
      ]
    },
    {
      "cell_type": "markdown",
      "source": [
        "### 기준을 맞춰라\n",
        "\n",
        "이는 x축의 범위가 좁고(0-40), y축의 범위가 넓기(0-1000) 때문에 발생한다 ⇒ **두 특성의 스케일이 다르다고 함.** 주어진 샘플에서 y축으로 조금만 멀어져도, 사실상 거리가 아주 큰 값으로 계산된다.\n",
        "\n",
        "따라서 x축의 범위를 재조정 해야 하며, **xlim** 메소드를 사용해 0~1000 사이로 범위를 맞춘다.\n",
        "\n",
        "산점도를 보면 알 수 있듯, 실제로 length는 거의 영향을 미치지 않고, weight을 보고 인접한 샘플을 선택함."
      ],
      "metadata": {
        "id": "WdJp49NXLR_u"
      }
    },
    {
      "cell_type": "code",
      "source": [
        "plt.scatter(train_input[:, 0], train_input[:, 1]) # length, weight\n",
        "plt.scatter(25, 150, marker='^') # 대상 물고기\n",
        "plt.scatter(train_input[indexes, 0], train_input[indexes, 1], marker='D')\n",
        "plt.xlim((0,1000))\n",
        "plt.xlabel('length')\n",
        "plt.ylabel('weight')\n",
        "plt.show()"
      ],
      "metadata": {
        "colab": {
          "base_uri": "https://localhost:8080/",
          "height": 449
        },
        "id": "m9cdRdI-uIF0",
        "outputId": "7e2d6e58-92c6-470b-a428-695a9be22456"
      },
      "execution_count": 62,
      "outputs": [
        {
          "output_type": "display_data",
          "data": {
            "text/plain": [
              "<Figure size 640x480 with 1 Axes>"
            ],
            "image/png": "[encoded data removed]"
          },
          "metadata": {}
        }
      ]
    },
    {
      "cell_type": "markdown",
      "source": [
        "### 데이터 전처리\n",
        "\n",
        "- 특성값을 일정한 기준으로 다시 맞춰주는 작업\n",
        "- 대표적인 전처리 방법 중 하나가 **표준점수(standard store)** 이용하기임.\n",
        "    - 각 특성값이 평균에서 표준편차의 몇 배만큼 떨어져 있는지를 나타냄. z 점수라고도 불림.\n",
        "    - 실제 특성값의 크기에 상관 없이 동일한 조건으로 비교 가능.\n",
        "- **표준편차? 표준점수?**\n",
        "    - 표준편차(Standard Deviation, σ)\n",
        "        - 데이터에서 평균을 뺀 값을 제곱하여 모두 더한 후 평균을 내어 구한 것이 편차. 편차의 제곱근이 표준편차.\n",
        "        - 특정 데이터들이 평균을 기준으로 **얼만큼 흩어져 있는지를 나타냄.**\n",
        "        - 평균 근처에 있는 데이터들은 흩어진 정도가 작으니 표준편차가 작고, 평균에서 멀리 있는 데이터들은 흩어진 정도가 크니 표준편차가 크다.\n",
        "        - 예를 들어 반 A의 경우, 70, 71, 69, 70, 70 → 평균은 70이고, 전부 다 평균 근처에 모여있으니 표준편차가 작다 (흩어진 정도가 작다)\n",
        "        - 반 B의 경우 50, 90, 30, 100, 80 → 평균은 똑같이 70이지만, 모두 평균에서 멀리 떨어져 있으니, 표준편차가 크다 (흩어진 정도가 크다)\n",
        "        - 즉, **표준편차 = 흩어진 정도**\n",
        "    - 표준점수(Standard Score, Z-score)\n",
        "        - **평균으로부터 몇 칸 떨어져 있는지를 나타냄.**\n",
        "        - 예시: 시험의 평균 점수가 70점, 표준편차 10점    \n",
        "    - **표준편차** = 잣대(한 칸 크기)\n",
        "    - **표준점수** = 내 위치가 평균에서 잣대로 몇 칸 떨어졌나"
      ],
      "metadata": {
        "id": "-AxrShxSLfph"
      }
    },
    {
      "cell_type": "markdown",
      "source": [
        "mean 메소드를 사용하여 평균을 구하고, std 메소드를 사용하여 표준편차를 구한다. 특성마다 스케일이 다르니, 각 특성 별로 평균, 표준편차를 알아야 함 → axis=0 사용."
      ],
      "metadata": {
        "id": "xpUMY_CaLsPe"
      }
    },
    {
      "cell_type": "code",
      "source": [
        "mean = np.mean(train_input, axis=0) # 평균을 구함. axis=0이니, column-wise로 row를 따라 이동해 가며 모두 계산하고, 한 column이 끝나면 다음 olumn으로 이동.\n",
        "std = np.std(train_input, axis=0) # 표준편차를 구함.\n",
        "print(mean)\n",
        "print(std)"
      ],
      "metadata": {
        "colab": {
          "base_uri": "https://localhost:8080/"
        },
        "id": "XHVUNxufxfml",
        "outputId": "e95a5382-1357-46fc-ddf1-ea76685ba32b"
      },
      "execution_count": 66,
      "outputs": [
        {
          "output_type": "stream",
          "name": "stdout",
          "text": [
            "[ 27.29722222 454.09722222]\n",
            "[  9.98244253 323.29893931]\n"
          ]
        }
      ]
    },
    {
      "cell_type": "markdown",
      "source": [
        "(데이터 - 평균 값) / 표준편차를 계산하여 표준점수를 구함. 표준점수는 평균에서 몇 칸 떨어져 있는지를 나타냄. 이때는, 열을 각각 따로 봄. 첫 번째 열이 length, 두 번째 열이 weight."
      ],
      "metadata": {
        "id": "IzHqDVMjLuUQ"
      }
    },
    {
      "cell_type": "code",
      "source": [
        "train_scaled = (train_input - mean) / std\n",
        "print(train_scaled)"
      ],
      "metadata": {
        "colab": {
          "base_uri": "https://localhost:8080/"
        },
        "id": "6qIZUZMx3e2W",
        "outputId": "0abe5007-c68f-4fbb-da1a-2dc22771a63e"
      },
      "execution_count": 69,
      "outputs": [
        {
          "output_type": "stream",
          "name": "stdout",
          "text": [
            "[[ 0.24070039  0.14198246]\n",
            " [-1.51237757 -1.36683783]\n",
            " [ 0.5712808   0.76060496]\n",
            " [-1.60253587 -1.37766373]\n",
            " [ 1.22242404  1.45655528]\n",
            " [ 0.17057727 -0.07453542]\n",
            " [ 0.87180845  0.80390854]\n",
            " [ 0.87180845  1.22457184]\n",
            " [ 0.37092904  0.06465464]\n",
            " [ 0.77163257  0.82246721]\n",
            " [ 0.97198434  1.68853872]\n",
            " [-1.61255346 -1.3742613 ]\n",
            " [ 0.72154463  0.51315596]\n",
            " [-1.53241275 -1.3742613 ]\n",
            " [ 0.17057727 -0.28177396]\n",
            " [ 0.5712808   0.76060496]\n",
            " [ 0.34087627  0.14198246]\n",
            " [ 1.12224816  1.54934866]\n",
            " [ 0.62136874  0.60594934]\n",
            " [-1.30200822 -1.34363949]\n",
            " [ 0.42101698  0.14198246]\n",
            " [-0.19005591 -0.65604058]\n",
            " [-1.75279969 -1.38384995]\n",
            " [ 0.47110492  0.45129371]\n",
            " [-1.68267658 -1.38137546]\n",
            " [ 0.62136874  0.48222484]\n",
            " [-1.67265899 -1.38292202]\n",
            " [ 0.77163257  0.76060496]\n",
            " [ 0.47110492  0.45129371]\n",
            " [ 0.77163257  0.83793278]\n",
            " [-1.43223687 -1.36683783]\n",
            " [ 0.27075315 -0.01267317]\n",
            " [ 0.47110492 -0.35291555]\n",
            " [-1.2318851  -1.34302087]\n",
            " [ 0.27075315 -0.19825992]\n",
            " [ 1.37268787  1.61121091]]\n"
          ]
        }
      ]
    },
    {
      "cell_type": "markdown",
      "source": [
        "표준점수를 산점도로 나타내면 아래와 같아짐. 그런데, 이럴 경우 predict 데이터가 너무 혼자 동떨어져 있게 됨."
      ],
      "metadata": {
        "id": "py3dOQPgLvt0"
      }
    },
    {
      "cell_type": "code",
      "source": [
        "plt.scatter(train_scaled[:,0], train_scaled[:,1]) # 각각 length와 weight. but 표준점수임\n",
        "plt.scatter(25, 150, marker='^')\n",
        "plt.xlabel('length')\n",
        "plt.xlabel('weight')\n",
        "plt.show()"
      ],
      "metadata": {
        "colab": {
          "base_uri": "https://localhost:8080/",
          "height": 449
        },
        "id": "_pMipPG24QAr",
        "outputId": "e5a46cc5-3caf-4928-cc50-c7bf6bb54718"
      },
      "execution_count": 70,
      "outputs": [
        {
          "output_type": "display_data",
          "data": {
            "text/plain": [
              "<Figure size 640x480 with 1 Axes>"
            ],
            "image/png": "[encoded data removed]"
          },
          "metadata": {}
        }
      ]
    },
    {
      "cell_type": "markdown",
      "source": [
        "이럴 경우 predict 데이터 또한 표준점수로 나타내야 함."
      ],
      "metadata": {
        "id": "MLfMULx_Lx1K"
      }
    },
    {
      "cell_type": "code",
      "source": [
        "new = ([25, 150] - mean) / std # 평균으로부터 몇 배의 표준편차만큼 떨어져 있는지를 나타냄\n",
        "plt.scatter(train_scaled[:, 0], train_scaled[:,1]) # train set 의 input. length, weight\n",
        "plt.scatter(new[0], new[1], marker='^') # length, weight 각각 줘야 함\n",
        "plt.xlabel('length')\n",
        "plt.ylabel('weight')\n",
        "plt.show()"
      ],
      "metadata": {
        "colab": {
          "base_uri": "https://localhost:8080/",
          "height": 449
        },
        "id": "Og_d3Zd-5NY9",
        "outputId": "342c6367-5d1d-4c0a-8d7e-b29b719d3e93"
      },
      "execution_count": 74,
      "outputs": [
        {
          "output_type": "display_data",
          "data": {
            "text/plain": [
              "<Figure size 640x480 with 1 Axes>"
            ],
            "image/png": "[encoded data removed]"
          },
          "metadata": {}
        }
      ]
    },
    {
      "cell_type": "markdown",
      "source": [
        "표준점수로 변환하기 전의 산점도와 거의 비슷하지만, x축과 y축의 범위가 -1.5 ~ 1.5 사이로 바뀜. 즉, 두 특성이 비슷한 범위를 차지하고 있음. 이전에는 x만 0~1000.\n",
        "이렇게 바꾼 상태에서 모델을 다시 훈련시키고, 똑같이 테스트 세트의 input도 표준점수로 바꿔준다."
      ],
      "metadata": {
        "id": "Yvljrda_Lzrd"
      }
    },
    {
      "cell_type": "code",
      "source": [
        "kn.fit(train_scaled, train_target) # 다시\n",
        "test_scaled = (test_input - mean) / std\n",
        "print(test_scaled)\n",
        "kn.score(test_scaled, test_target)"
      ],
      "metadata": {
        "colab": {
          "base_uri": "https://localhost:8080/"
        },
        "id": "Wc5HpHb46MyN",
        "outputId": "86438c74-9729-4400-8c6c-f5c3a025b797"
      },
      "execution_count": 80,
      "outputs": [
        {
          "output_type": "stream",
          "name": "stdout",
          "text": [
            "[[-1.63258863 -1.37457062]\n",
            " [-1.55244793 -1.37395199]\n",
            " [ 0.24070039 -0.01267317]\n",
            " [-1.55244793 -1.37364268]\n",
            " [-0.07986244 -0.35291555]\n",
            " [-1.4923424  -1.3631261 ]\n",
            " [ 0.67145669  0.71420828]\n",
            " [ 0.67145669  0.3739659 ]\n",
            " [ 1.12224816  1.44108972]\n",
            " [ 0.77163257  0.69874271]\n",
            " [-0.09989762 -0.50757117]\n",
            " [ 0.37092904  0.14198246]\n",
            " [ 1.37268787  1.5338831 ]]\n"
          ]
        },
        {
          "output_type": "execute_result",
          "data": {
            "text/plain": [
              "1.0"
            ]
          },
          "metadata": {},
          "execution_count": 80
        }
      ]
    },
    {
      "cell_type": "markdown",
      "source": [
        "또, 이전에 0(빙어)로 나왔던 데이터를 다시 넣고, predict를 하면 이번에는 정상적으로 1이 출력되는 것을 확인할 수 있다."
      ],
      "metadata": {
        "id": "2-TxwDmEL6vy"
      }
    },
    {
      "cell_type": "code",
      "source": [
        "kn.predict([[25,150]])"
      ],
      "metadata": {
        "colab": {
          "base_uri": "https://localhost:8080/"
        },
        "id": "GaAdB-OyBb3s",
        "outputId": "0042ee5c-5c80-4954-d792-63bc044a2e1b"
      },
      "execution_count": 81,
      "outputs": [
        {
          "output_type": "execute_result",
          "data": {
            "text/plain": [
              "array([1.])"
            ]
          },
          "metadata": {},
          "execution_count": 81
        }
      ]
    },
    {
      "cell_type": "code",
      "source": [
        "distances, indexes = kn.kneighbors([new])\n",
        "plt.scatter(train_scaled[:,0], train_scaled[:,1])\n",
        "plt.scatter(new[0], new[1], marker='^')\n",
        "plt.scatter(train_scaled[indexes, 0], train_scaled[indexes, 1], marker='D')\n",
        "plt.xlabel('length')\n",
        "plt.ylabel('weight')\n",
        "plt.show()\n",
        "\n",
        "print(distances, indexes)"
      ],
      "metadata": {
        "colab": {
          "base_uri": "https://localhost:8080/",
          "height": 467
        },
        "id": "gy3akBsRByA5",
        "outputId": "fe25e353-9607-43e9-cad2-153f20ebfa9d"
      },
      "execution_count": 87,
      "outputs": [
        {
          "output_type": "display_data",
          "data": {
            "text/plain": [
              "<Figure size 640x480 with 1 Axes>"
            ],
            "image/png": "[encoded data removed]"
          },
          "metadata": {}
        },
        {
          "output_type": "stream",
          "name": "stdout",
          "text": [
            "[[0.2873737  0.7711188  0.89552179 0.91493515 0.95427626]] [[21 14 34 32  5]]\n"
          ]
        }
      ]
    }
  ]
}